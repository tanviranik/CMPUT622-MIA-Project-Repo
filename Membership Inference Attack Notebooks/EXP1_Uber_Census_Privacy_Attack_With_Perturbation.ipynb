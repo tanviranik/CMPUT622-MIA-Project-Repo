{
  "nbformat": 4,
  "nbformat_minor": 0,
  "metadata": {
    "kernelspec": {
      "display_name": "Python 3",
      "language": "python",
      "name": "python3"
    },
    "colab": {
      "name": "Uber Census Privacy Attack - With Perturbation.ipynb",
      "provenance": [],
      "collapsed_sections": []
    },
    "accelerator": "GPU"
  },
  "cells": [
    {
      "cell_type": "code",
      "metadata": {
        "id": "p4eDcxydKQLy"
      },
      "source": [
        "import numpy as np\n",
        "import pandas as pd\n",
        "import matplotlib.pyplot as plt\n",
        "%matplotlib inline\n",
        "import keras\n",
        "from keras.datasets import cifar100\n",
        "from keras import applications\n",
        "from __future__ import print_function\n",
        "from keras import optimizers\n",
        "from keras.models import Sequential,Input,Model\n",
        "from keras.models import load_model #save and load models\n",
        "from keras.layers import Dense, Dropout, Activation, Flatten\n",
        "from keras.layers import Conv2D, MaxPooling2D\n",
        "from sklearn.preprocessing import LabelEncoder\n",
        "import keras.backend as k"
      ],
      "execution_count": 20,
      "outputs": []
    },
    {
      "cell_type": "code",
      "metadata": {
        "id": "i3s15gFdKQL2",
        "colab": {
          "base_uri": "https://localhost:8080/",
          "height": 756
        },
        "outputId": "1b9c8c79-e5fb-4446-bbcd-3a933aad1bc9"
      },
      "source": [
        "def income_level(row):\n",
        "    if row['MedianIncome'] > 65000 :\n",
        "        return 1\n",
        "    else:\n",
        "        return 0\n",
        "\n",
        "df = pd.read_csv('uber_census_augmented_generated.csv', encoding = \"ISO-8859-1\", engine='python')\n",
        "data = df\n",
        "print(data.shape)\n",
        "print(data.dtypes)\n",
        "data['UserGroup'] = data.apply(lambda row: income_level(row), axis=1)\n",
        "df1 = data\n",
        "df1"
      ],
      "execution_count": 21,
      "outputs": [
        {
          "output_type": "stream",
          "name": "stdout",
          "text": [
            "(24380, 16)\n",
            "hour                          float64\n",
            "lat                           float64\n",
            "long                          float64\n",
            "MedianIncomeByPlaceofBirth    float64\n",
            "MedianIncome                  float64\n",
            "TotalPopulation               float64\n",
            "AvgPopulation                 float64\n",
            "Population5M                  float64\n",
            "Population45M                 float64\n",
            "Population4M                  float64\n",
            "Population35M                 float64\n",
            "Population3M                  float64\n",
            "base_B02512                   float64\n",
            "base_B02598                   float64\n",
            "base_B02617                   float64\n",
            "base_B02682                   float64\n",
            "dtype: object\n"
          ]
        },
        {
          "output_type": "execute_result",
          "data": {
            "text/html": [
              "<div>\n",
              "<style scoped>\n",
              "    .dataframe tbody tr th:only-of-type {\n",
              "        vertical-align: middle;\n",
              "    }\n",
              "\n",
              "    .dataframe tbody tr th {\n",
              "        vertical-align: top;\n",
              "    }\n",
              "\n",
              "    .dataframe thead th {\n",
              "        text-align: right;\n",
              "    }\n",
              "</style>\n",
              "<table border=\"1\" class=\"dataframe\">\n",
              "  <thead>\n",
              "    <tr style=\"text-align: right;\">\n",
              "      <th></th>\n",
              "      <th>hour</th>\n",
              "      <th>lat</th>\n",
              "      <th>long</th>\n",
              "      <th>MedianIncomeByPlaceofBirth</th>\n",
              "      <th>MedianIncome</th>\n",
              "      <th>TotalPopulation</th>\n",
              "      <th>AvgPopulation</th>\n",
              "      <th>Population5M</th>\n",
              "      <th>Population45M</th>\n",
              "      <th>Population4M</th>\n",
              "      <th>Population35M</th>\n",
              "      <th>Population3M</th>\n",
              "      <th>base_B02512</th>\n",
              "      <th>base_B02598</th>\n",
              "      <th>base_B02617</th>\n",
              "      <th>base_B02682</th>\n",
              "      <th>UserGroup</th>\n",
              "    </tr>\n",
              "  </thead>\n",
              "  <tbody>\n",
              "    <tr>\n",
              "      <th>0</th>\n",
              "      <td>51.0</td>\n",
              "      <td>40.883700</td>\n",
              "      <td>-73.852900</td>\n",
              "      <td>35833.000000</td>\n",
              "      <td>7.596200e+04</td>\n",
              "      <td>3442.000000</td>\n",
              "      <td>3004.000000</td>\n",
              "      <td>1.860858e+06</td>\n",
              "      <td>1.628639e+06</td>\n",
              "      <td>1.351564e+06</td>\n",
              "      <td>1.090890e+06</td>\n",
              "      <td>8.919960e+05</td>\n",
              "      <td>0.0</td>\n",
              "      <td>0.0</td>\n",
              "      <td>1.0</td>\n",
              "      <td>0.0</td>\n",
              "      <td>1</td>\n",
              "    </tr>\n",
              "    <tr>\n",
              "      <th>1</th>\n",
              "      <td>77.0</td>\n",
              "      <td>40.860671</td>\n",
              "      <td>-73.793922</td>\n",
              "      <td>20138.373061</td>\n",
              "      <td>-3.439088e+07</td>\n",
              "      <td>4831.261780</td>\n",
              "      <td>4821.905285</td>\n",
              "      <td>1.123955e+06</td>\n",
              "      <td>3.552895e+06</td>\n",
              "      <td>3.146873e+05</td>\n",
              "      <td>1.117790e+06</td>\n",
              "      <td>8.042028e+05</td>\n",
              "      <td>0.0</td>\n",
              "      <td>0.0</td>\n",
              "      <td>1.0</td>\n",
              "      <td>0.0</td>\n",
              "      <td>0</td>\n",
              "    </tr>\n",
              "    <tr>\n",
              "      <th>2</th>\n",
              "      <td>35.0</td>\n",
              "      <td>40.661351</td>\n",
              "      <td>-73.918443</td>\n",
              "      <td>38706.025388</td>\n",
              "      <td>1.668560e+07</td>\n",
              "      <td>5997.650009</td>\n",
              "      <td>2189.453514</td>\n",
              "      <td>1.560699e+06</td>\n",
              "      <td>7.396952e+05</td>\n",
              "      <td>3.391752e+05</td>\n",
              "      <td>8.781857e+04</td>\n",
              "      <td>1.806951e+06</td>\n",
              "      <td>0.0</td>\n",
              "      <td>0.0</td>\n",
              "      <td>1.0</td>\n",
              "      <td>0.0</td>\n",
              "      <td>1</td>\n",
              "    </tr>\n",
              "    <tr>\n",
              "      <th>3</th>\n",
              "      <td>22.0</td>\n",
              "      <td>40.859819</td>\n",
              "      <td>-74.021596</td>\n",
              "      <td>42942.613228</td>\n",
              "      <td>-6.820204e+06</td>\n",
              "      <td>932.574501</td>\n",
              "      <td>2944.732906</td>\n",
              "      <td>2.286153e+06</td>\n",
              "      <td>1.685031e+06</td>\n",
              "      <td>1.567209e+06</td>\n",
              "      <td>7.179887e+05</td>\n",
              "      <td>7.218626e+05</td>\n",
              "      <td>0.0</td>\n",
              "      <td>0.0</td>\n",
              "      <td>1.0</td>\n",
              "      <td>0.0</td>\n",
              "      <td>0</td>\n",
              "    </tr>\n",
              "    <tr>\n",
              "      <th>4</th>\n",
              "      <td>54.0</td>\n",
              "      <td>40.838599</td>\n",
              "      <td>-74.160011</td>\n",
              "      <td>44336.958655</td>\n",
              "      <td>-1.217309e+07</td>\n",
              "      <td>3552.409578</td>\n",
              "      <td>4537.274043</td>\n",
              "      <td>1.988926e+06</td>\n",
              "      <td>2.594602e+06</td>\n",
              "      <td>4.712063e+05</td>\n",
              "      <td>1.327416e+06</td>\n",
              "      <td>5.708054e+05</td>\n",
              "      <td>0.0</td>\n",
              "      <td>0.0</td>\n",
              "      <td>1.0</td>\n",
              "      <td>0.0</td>\n",
              "      <td>0</td>\n",
              "    </tr>\n",
              "    <tr>\n",
              "      <th>...</th>\n",
              "      <td>...</td>\n",
              "      <td>...</td>\n",
              "      <td>...</td>\n",
              "      <td>...</td>\n",
              "      <td>...</td>\n",
              "      <td>...</td>\n",
              "      <td>...</td>\n",
              "      <td>...</td>\n",
              "      <td>...</td>\n",
              "      <td>...</td>\n",
              "      <td>...</td>\n",
              "      <td>...</td>\n",
              "      <td>...</td>\n",
              "      <td>...</td>\n",
              "      <td>...</td>\n",
              "      <td>...</td>\n",
              "      <td>...</td>\n",
              "    </tr>\n",
              "    <tr>\n",
              "      <th>24375</th>\n",
              "      <td>8.0</td>\n",
              "      <td>40.969620</td>\n",
              "      <td>-73.765074</td>\n",
              "      <td>-3100.588832</td>\n",
              "      <td>2.013001e+07</td>\n",
              "      <td>10805.699263</td>\n",
              "      <td>9454.967927</td>\n",
              "      <td>1.742094e+06</td>\n",
              "      <td>8.359068e+05</td>\n",
              "      <td>2.241874e+06</td>\n",
              "      <td>1.001976e+06</td>\n",
              "      <td>1.533364e+06</td>\n",
              "      <td>0.0</td>\n",
              "      <td>0.0</td>\n",
              "      <td>1.0</td>\n",
              "      <td>0.0</td>\n",
              "      <td>1</td>\n",
              "    </tr>\n",
              "    <tr>\n",
              "      <th>24376</th>\n",
              "      <td>29.0</td>\n",
              "      <td>41.068968</td>\n",
              "      <td>-73.828891</td>\n",
              "      <td>32515.845294</td>\n",
              "      <td>2.546137e+07</td>\n",
              "      <td>3911.347486</td>\n",
              "      <td>4304.175988</td>\n",
              "      <td>2.883266e+06</td>\n",
              "      <td>7.491187e+05</td>\n",
              "      <td>2.875799e+06</td>\n",
              "      <td>9.958373e+05</td>\n",
              "      <td>6.094387e+05</td>\n",
              "      <td>0.0</td>\n",
              "      <td>0.0</td>\n",
              "      <td>1.0</td>\n",
              "      <td>0.0</td>\n",
              "      <td>1</td>\n",
              "    </tr>\n",
              "    <tr>\n",
              "      <th>24377</th>\n",
              "      <td>13.0</td>\n",
              "      <td>41.082909</td>\n",
              "      <td>-73.903289</td>\n",
              "      <td>39874.716654</td>\n",
              "      <td>1.282619e+07</td>\n",
              "      <td>6446.527125</td>\n",
              "      <td>8267.406045</td>\n",
              "      <td>2.836411e+06</td>\n",
              "      <td>2.062798e+06</td>\n",
              "      <td>7.063043e+05</td>\n",
              "      <td>1.414319e+06</td>\n",
              "      <td>1.582114e+06</td>\n",
              "      <td>0.0</td>\n",
              "      <td>0.0</td>\n",
              "      <td>1.0</td>\n",
              "      <td>0.0</td>\n",
              "      <td>1</td>\n",
              "    </tr>\n",
              "    <tr>\n",
              "      <th>24378</th>\n",
              "      <td>40.0</td>\n",
              "      <td>40.914238</td>\n",
              "      <td>-73.997844</td>\n",
              "      <td>35038.093905</td>\n",
              "      <td>-9.066141e+06</td>\n",
              "      <td>6843.655630</td>\n",
              "      <td>5638.818670</td>\n",
              "      <td>2.592380e+06</td>\n",
              "      <td>2.232494e+06</td>\n",
              "      <td>1.341607e+06</td>\n",
              "      <td>1.471795e+06</td>\n",
              "      <td>4.473418e+05</td>\n",
              "      <td>0.0</td>\n",
              "      <td>0.0</td>\n",
              "      <td>1.0</td>\n",
              "      <td>0.0</td>\n",
              "      <td>0</td>\n",
              "    </tr>\n",
              "    <tr>\n",
              "      <th>24379</th>\n",
              "      <td>70.0</td>\n",
              "      <td>40.974520</td>\n",
              "      <td>-74.024765</td>\n",
              "      <td>45654.982182</td>\n",
              "      <td>-1.772777e+07</td>\n",
              "      <td>5794.905132</td>\n",
              "      <td>6832.488223</td>\n",
              "      <td>3.621937e+06</td>\n",
              "      <td>1.112282e+06</td>\n",
              "      <td>9.009102e+05</td>\n",
              "      <td>1.181115e+06</td>\n",
              "      <td>6.488255e+05</td>\n",
              "      <td>0.0</td>\n",
              "      <td>0.0</td>\n",
              "      <td>1.0</td>\n",
              "      <td>0.0</td>\n",
              "      <td>0</td>\n",
              "    </tr>\n",
              "  </tbody>\n",
              "</table>\n",
              "<p>24380 rows × 17 columns</p>\n",
              "</div>"
            ],
            "text/plain": [
              "       hour        lat       long  ...  base_B02617  base_B02682  UserGroup\n",
              "0      51.0  40.883700 -73.852900  ...          1.0          0.0          1\n",
              "1      77.0  40.860671 -73.793922  ...          1.0          0.0          0\n",
              "2      35.0  40.661351 -73.918443  ...          1.0          0.0          1\n",
              "3      22.0  40.859819 -74.021596  ...          1.0          0.0          0\n",
              "4      54.0  40.838599 -74.160011  ...          1.0          0.0          0\n",
              "...     ...        ...        ...  ...          ...          ...        ...\n",
              "24375   8.0  40.969620 -73.765074  ...          1.0          0.0          1\n",
              "24376  29.0  41.068968 -73.828891  ...          1.0          0.0          1\n",
              "24377  13.0  41.082909 -73.903289  ...          1.0          0.0          1\n",
              "24378  40.0  40.914238 -73.997844  ...          1.0          0.0          0\n",
              "24379  70.0  40.974520 -74.024765  ...          1.0          0.0          0\n",
              "\n",
              "[24380 rows x 17 columns]"
            ]
          },
          "metadata": {},
          "execution_count": 21
        }
      ]
    },
    {
      "cell_type": "code",
      "metadata": {
        "id": "lcyRcHeaKQL3",
        "colab": {
          "base_uri": "https://localhost:8080/"
        },
        "outputId": "1cb1f4a6-c0f1-427d-a98c-da0fded5ec37"
      },
      "source": [
        "names_cloud = data.columns.tolist()\n",
        "print(names_cloud)\n",
        "X = np.array(data[names_cloud])\n",
        "print(X.shape)"
      ],
      "execution_count": 22,
      "outputs": [
        {
          "output_type": "stream",
          "name": "stdout",
          "text": [
            "['hour', 'lat', 'long', 'MedianIncomeByPlaceofBirth', 'MedianIncome', 'TotalPopulation', 'AvgPopulation', 'Population5M', 'Population45M', 'Population4M', 'Population35M', 'Population3M', 'base_B02512', 'base_B02598', 'base_B02617', 'base_B02682', 'UserGroup']\n",
            "(24380, 17)\n"
          ]
        }
      ]
    },
    {
      "cell_type": "code",
      "metadata": {
        "id": "gjKas_fWKQL4",
        "colab": {
          "base_uri": "https://localhost:8080/"
        },
        "outputId": "c54a4fb5-51e8-45c5-d0ea-2f68078b7741"
      },
      "source": [
        "y = (data['UserGroup']).values\n",
        "print(pd.value_counts(pd.Series(y)))\n",
        "data.drop('UserGroup',axis=1, inplace =True,)"
      ],
      "execution_count": 23,
      "outputs": [
        {
          "output_type": "stream",
          "name": "stdout",
          "text": [
            "0    13391\n",
            "1    10989\n",
            "dtype: int64\n"
          ]
        }
      ]
    },
    {
      "cell_type": "code",
      "metadata": {
        "id": "yyvXB69LKQL5",
        "colab": {
          "base_uri": "https://localhost:8080/"
        },
        "outputId": "26928332-ab1d-41ad-92d6-ff2a607b7a95"
      },
      "source": [
        "names_x = df1.columns.tolist()\n",
        "print(\"Target Variable: UserGroup\")\n",
        "print(\"Predictors: \"+str(names_x))\n",
        "x = np.array(df1[names_x])\n",
        "print(\"Number of data samples : {0:d}\".format(x.shape[0]))\n",
        "print(\"Number of Predictor Features : {0:d}\".format(x.shape[1]))\n",
        "df_ohc = df1[names_x]"
      ],
      "execution_count": 24,
      "outputs": [
        {
          "output_type": "stream",
          "name": "stdout",
          "text": [
            "Target Variable: UserGroup\n",
            "Predictors: ['hour', 'lat', 'long', 'MedianIncomeByPlaceofBirth', 'MedianIncome', 'TotalPopulation', 'AvgPopulation', 'Population5M', 'Population45M', 'Population4M', 'Population35M', 'Population3M', 'base_B02512', 'base_B02598', 'base_B02617', 'base_B02682']\n",
            "Number of data samples : 24380\n",
            "Number of Predictor Features : 16\n"
          ]
        }
      ]
    },
    {
      "cell_type": "code",
      "metadata": {
        "id": "dDL1Zx6oLDqI",
        "colab": {
          "base_uri": "https://localhost:8080/"
        },
        "outputId": "52ebaa80-a041-4a86-d1d4-ec83a56867fe"
      },
      "source": [
        "df_ohc.dtypes"
      ],
      "execution_count": 25,
      "outputs": [
        {
          "output_type": "execute_result",
          "data": {
            "text/plain": [
              "hour                          float64\n",
              "lat                           float64\n",
              "long                          float64\n",
              "MedianIncomeByPlaceofBirth    float64\n",
              "MedianIncome                  float64\n",
              "TotalPopulation               float64\n",
              "AvgPopulation                 float64\n",
              "Population5M                  float64\n",
              "Population45M                 float64\n",
              "Population4M                  float64\n",
              "Population35M                 float64\n",
              "Population3M                  float64\n",
              "base_B02512                   float64\n",
              "base_B02598                   float64\n",
              "base_B02617                   float64\n",
              "base_B02682                   float64\n",
              "dtype: object"
            ]
          },
          "metadata": {},
          "execution_count": 25
        }
      ]
    },
    {
      "cell_type": "code",
      "metadata": {
        "id": "IaiuLVXZKQL6",
        "colab": {
          "base_uri": "https://localhost:8080/"
        },
        "outputId": "b77a2939-240d-4b4c-d5e0-ff1b81e90d9b"
      },
      "source": [
        "x = x.astype('float32')\n",
        "x = x/255\n",
        "batch_size = 64 #upto us\n",
        "epochs = 200\n",
        "lrate = 0.001\n",
        "decay = 1e-7 \n",
        "data_size = 2000\n",
        "ns = 10 #number of shadow models for one data_size\n",
        "nh = 8 #number of hidden layers\n",
        "nout = 1\n",
        "seed = 9\n",
        "np.random.seed(seed)\n",
        "sh = np.arange(x.shape[0])\n",
        "np.random.shuffle(sh)\n",
        "target_rep = np.zeros((1,x.shape[0]))\n",
        "target_rep[0,:] = sh\n",
        "print(sh)"
      ],
      "execution_count": 26,
      "outputs": [
        {
          "output_type": "stream",
          "name": "stdout",
          "text": [
            "[20628 12886  1155 ...   501 23166 20828]\n"
          ]
        }
      ]
    },
    {
      "cell_type": "code",
      "metadata": {
        "id": "hop0ijufKQL7",
        "colab": {
          "base_uri": "https://localhost:8080/"
        },
        "outputId": "f7405c5b-9e74-43fa-acbb-aaa079a18798"
      },
      "source": [
        "from tensorflow.keras.optimizers import Adam\n",
        "k.clear_session()\n",
        "xtr_target = x[sh[:data_size]]\n",
        "ytr_target = y[sh[:data_size]]\n",
        "xts_target = x[sh[data_size:data_size*2]]\n",
        "yts_target = y[sh[data_size:2*data_size]]\n",
        "shadow_rep = np.zeros((20,x.shape[0]-2*data_size))\n",
        "sh1 = sh[2*data_size:]\n",
        "xtr_att = np.zeros((2*data_size*ns,1))\n",
        "ytr_att = np.zeros((2*data_size*ns,1))\n",
        "xtr_att_truelabels = np.zeros((2*data_size*ns,))\n",
        "model_target = Sequential()\n",
        "model_target.add(Dense(nh, input_shape =(x.shape[1],), activation='sigmoid', name = 'hidden'))\n",
        "model_target.add(Dense(1, activation='sigmoid', name = 'output'))\n",
        "opt = Adam(lr=lrate, decay=decay) \n",
        "model_target.compile(loss='binary_crossentropy',\n",
        "                  optimizer=opt,\n",
        "                  metrics=['accuracy'])\n",
        "print(model_target.summary())\n",
        "hist_target = model_target.fit(xtr_target, ytr_target,\n",
        "                  batch_size = batch_size,\n",
        "                  epochs = epochs,\n",
        "                  validation_data=(xts_target, yts_target), shuffle=True, verbose=0)\n"
      ],
      "execution_count": 27,
      "outputs": [
        {
          "output_type": "stream",
          "name": "stdout",
          "text": [
            "Model: \"sequential\"\n",
            "_________________________________________________________________\n",
            " Layer (type)                Output Shape              Param #   \n",
            "=================================================================\n",
            " hidden (Dense)              (None, 8)                 136       \n",
            "                                                                 \n",
            " output (Dense)              (None, 1)                 9         \n",
            "                                                                 \n",
            "=================================================================\n",
            "Total params: 145\n",
            "Trainable params: 145\n",
            "Non-trainable params: 0\n",
            "_________________________________________________________________\n",
            "None\n"
          ]
        },
        {
          "output_type": "stream",
          "name": "stderr",
          "text": [
            "/usr/local/lib/python3.7/dist-packages/keras/optimizer_v2/adam.py:105: UserWarning: The `lr` argument is deprecated, use `learning_rate` instead.\n",
            "  super(Adam, self).__init__(name, **kwargs)\n"
          ]
        }
      ]
    },
    {
      "cell_type": "code",
      "metadata": {
        "id": "ifZNvv4JUaX2",
        "colab": {
          "base_uri": "https://localhost:8080/"
        },
        "outputId": "ef2a8809-663e-4c43-be3a-d19018e774ba"
      },
      "source": [
        "print('\\n\\nFor target model with training datasize = %d'%data_size)\n",
        "print('Training accuracy = ', hist_target.history['accuracy'][-1])\n",
        "print('Validation accuracy = ', hist_target.history['val_accuracy'][-1])\n",
        "model_target_name = 'Uber_Census_target_'+str(data_size)+'.h5'\n",
        "model_target.save(model_target_name)\n",
        "ytemp_tr_target = model_target.predict(xtr_target)\n",
        "ytemp_ts_target = model_target.predict(xts_target)\n",
        "xts_att = np.vstack((ytemp_tr_target,ytemp_ts_target))\n",
        "yts_att = np.zeros((2*data_size,1))\n",
        "yts_att[data_size:2*data_size] = 1  \n",
        "xts_att_truelabels = np.vstack((ytr_target,yts_target))\n",
        "xts_att_dict = {'xts_att':xts_att,'yts_att':yts_att,'xts_att_truelabels':xts_att_truelabels}\n",
        "fname = './att_test_data_'+str(data_size)\n",
        "np.save(fname,xts_att_dict)\n",
        "datafile = './data_ubercensus_target_'+str(data_size)\n",
        "np.save(datafile,target_rep)"
      ],
      "execution_count": 28,
      "outputs": [
        {
          "output_type": "stream",
          "name": "stdout",
          "text": [
            "\n",
            "\n",
            "For target model with training datasize = 2000\n",
            "Training accuracy =  0.9564999938011169\n",
            "Validation accuracy =  0.9484999775886536\n"
          ]
        }
      ]
    },
    {
      "cell_type": "code",
      "metadata": {
        "id": "FdesgvSLKQL8",
        "colab": {
          "base_uri": "https://localhost:8080/",
          "height": 1000
        },
        "outputId": "fb842b1b-0351-413b-b999-60d419f1f47c"
      },
      "source": [
        "for i in np.arange(ns):\n",
        "    np.random.shuffle(sh1)\n",
        "    shadow_rep[i,:] = sh1\n",
        "    xtr_shadow = x[sh1[:data_size]]\n",
        "    ytr_shadow = y[sh1[:data_size]]\n",
        "    xts_shadow = x[sh1[data_size:2*data_size]]\n",
        "    yts_shadow = y[sh1[data_size:2*data_size]]\n",
        "    model_shadow = Sequential()\n",
        "    model_shadow.add(Dense(nh, input_shape =(x.shape[1],), activation='sigmoid', name = 'hidden'))\n",
        "    model_shadow.add(Dense(1, activation='sigmoid', name = 'output'))\n",
        "    opt = Adam(learning_rate=lrate, decay=decay) \n",
        "    model_shadow.compile(loss='binary_crossentropy',\n",
        "                  optimizer=opt,\n",
        "                  metrics=['accuracy'])\n",
        "    if i == 0:\n",
        "        print(\"Shadow Model Summary\")\n",
        "        print(model_shadow.summary())\n",
        "    hist_shadow = model_shadow.fit(xtr_shadow, ytr_shadow,\n",
        "                  batch_size = batch_size,\n",
        "                  epochs = epochs,\n",
        "                  validation_data=(xts_shadow, yts_shadow), shuffle=True, verbose=0)\n",
        "    print(\"Shadow model no: %d\"%i)\n",
        "    print('\\n\\nFor shadow model with training datasize = %d'%data_size)\n",
        "    print('Training accuracy = ', hist_shadow.history['accuracy'][-1])\n",
        "    print('Validation accuracy = ', hist_shadow.history['val_accuracy'][-1])\n",
        "    ytemp11 = model_shadow.predict(xtr_shadow)\n",
        "    ytemp22 = model_shadow.predict(xts_shadow)\n",
        "    model_shadow_name = 'UBER_Census_shadow_'+str(data_size)+'_'+str(i)+'.h5'\n",
        "    print(model_shadow_name)\n",
        "    model_shadow.save(model_shadow_name)    \n",
        "\n",
        "    print(ytemp11)\n",
        "    print(ytemp22)\n",
        "\n",
        "    xtr_att[i*2*data_size:(i+1)*2*data_size] = np.vstack((ytemp11,ytemp22))\n",
        "    ytr_att[((i*2)+1)*data_size:(i+1)*2*data_size] = 1\n",
        "    print('****')\n",
        "    print(ytr_shadow)\n",
        "    print(yts_shadow)\n",
        "    print( np.hstack((ytr_shadow,yts_shadow)))\n",
        "    xtr_att_truelabels[i*2*data_size:(i+1)*2*data_size] = np.hstack((ytr_shadow,yts_shadow))\n",
        "datafile = './data_UBER_Census_shadow_'+str(data_size)\n",
        "np.save(datafile,shadow_rep)\n",
        "xtr_att_dict = {'xtr_att':xtr_att,'ytr_att':ytr_att,'xtr_att_truelabels':xtr_att_truelabels}\n",
        "fname = './att_train_data_'+str(data_size)\n",
        "np.save(fname,xtr_att_dict)"
      ],
      "execution_count": 29,
      "outputs": [
        {
          "output_type": "stream",
          "name": "stdout",
          "text": [
            "Shadow Model Summary\n",
            "Model: \"sequential_1\"\n",
            "_________________________________________________________________\n",
            " Layer (type)                Output Shape              Param #   \n",
            "=================================================================\n",
            " hidden (Dense)              (None, 8)                 136       \n",
            "                                                                 \n",
            " output (Dense)              (None, 1)                 9         \n",
            "                                                                 \n",
            "=================================================================\n",
            "Total params: 145\n",
            "Trainable params: 145\n",
            "Non-trainable params: 0\n",
            "_________________________________________________________________\n",
            "None\n",
            "Shadow model no: 0\n",
            "\n",
            "\n",
            "For shadow model with training datasize = 2000\n",
            "Training accuracy =  0.9610000252723694\n",
            "Validation accuracy =  0.9639999866485596\n",
            "UBER_Census_shadow_2000_0.h5\n",
            "[[0.9990577 ]\n",
            " [0.9990577 ]\n",
            " [0.00336298]\n",
            " ...\n",
            " [0.9990577 ]\n",
            " [0.9990577 ]\n",
            " [0.00336298]]\n",
            "[[0.00336298]\n",
            " [0.9990577 ]\n",
            " [0.3770604 ]\n",
            " ...\n",
            " [0.9990577 ]\n",
            " [0.9990577 ]\n",
            " [0.00336298]]\n",
            "****\n",
            "[1 1 0 ... 1 1 0]\n",
            "[0 1 1 ... 1 1 0]\n",
            "[1 1 0 ... 1 1 0]\n"
          ]
        },
        {
          "output_type": "error",
          "ename": "KeyboardInterrupt",
          "evalue": "ignored",
          "traceback": [
            "\u001b[0;31m---------------------------------------------------------------------------\u001b[0m",
            "\u001b[0;31mKeyboardInterrupt\u001b[0m                         Traceback (most recent call last)",
            "\u001b[0;32m<ipython-input-29-0ce1d1d74f9e>\u001b[0m in \u001b[0;36m<module>\u001b[0;34m()\u001b[0m\n\u001b[1;32m     19\u001b[0m                   \u001b[0mbatch_size\u001b[0m \u001b[0;34m=\u001b[0m \u001b[0mbatch_size\u001b[0m\u001b[0;34m,\u001b[0m\u001b[0;34m\u001b[0m\u001b[0;34m\u001b[0m\u001b[0m\n\u001b[1;32m     20\u001b[0m                   \u001b[0mepochs\u001b[0m \u001b[0;34m=\u001b[0m \u001b[0mepochs\u001b[0m\u001b[0;34m,\u001b[0m\u001b[0;34m\u001b[0m\u001b[0;34m\u001b[0m\u001b[0m\n\u001b[0;32m---> 21\u001b[0;31m                   validation_data=(xts_shadow, yts_shadow), shuffle=True, verbose=0)\n\u001b[0m\u001b[1;32m     22\u001b[0m     \u001b[0mprint\u001b[0m\u001b[0;34m(\u001b[0m\u001b[0;34m\"Shadow model no: %d\"\u001b[0m\u001b[0;34m%\u001b[0m\u001b[0mi\u001b[0m\u001b[0;34m)\u001b[0m\u001b[0;34m\u001b[0m\u001b[0;34m\u001b[0m\u001b[0m\n\u001b[1;32m     23\u001b[0m     \u001b[0mprint\u001b[0m\u001b[0;34m(\u001b[0m\u001b[0;34m'\\n\\nFor shadow model with training datasize = %d'\u001b[0m\u001b[0;34m%\u001b[0m\u001b[0mdata_size\u001b[0m\u001b[0;34m)\u001b[0m\u001b[0;34m\u001b[0m\u001b[0;34m\u001b[0m\u001b[0m\n",
            "\u001b[0;32m/usr/local/lib/python3.7/dist-packages/keras/utils/traceback_utils.py\u001b[0m in \u001b[0;36merror_handler\u001b[0;34m(*args, **kwargs)\u001b[0m\n\u001b[1;32m     62\u001b[0m     \u001b[0mfiltered_tb\u001b[0m \u001b[0;34m=\u001b[0m \u001b[0;32mNone\u001b[0m\u001b[0;34m\u001b[0m\u001b[0;34m\u001b[0m\u001b[0m\n\u001b[1;32m     63\u001b[0m     \u001b[0;32mtry\u001b[0m\u001b[0;34m:\u001b[0m\u001b[0;34m\u001b[0m\u001b[0;34m\u001b[0m\u001b[0m\n\u001b[0;32m---> 64\u001b[0;31m       \u001b[0;32mreturn\u001b[0m \u001b[0mfn\u001b[0m\u001b[0;34m(\u001b[0m\u001b[0;34m*\u001b[0m\u001b[0margs\u001b[0m\u001b[0;34m,\u001b[0m \u001b[0;34m**\u001b[0m\u001b[0mkwargs\u001b[0m\u001b[0;34m)\u001b[0m\u001b[0;34m\u001b[0m\u001b[0;34m\u001b[0m\u001b[0m\n\u001b[0m\u001b[1;32m     65\u001b[0m     \u001b[0;32mexcept\u001b[0m \u001b[0mException\u001b[0m \u001b[0;32mas\u001b[0m \u001b[0me\u001b[0m\u001b[0;34m:\u001b[0m  \u001b[0;31m# pylint: disable=broad-except\u001b[0m\u001b[0;34m\u001b[0m\u001b[0;34m\u001b[0m\u001b[0m\n\u001b[1;32m     66\u001b[0m       \u001b[0mfiltered_tb\u001b[0m \u001b[0;34m=\u001b[0m \u001b[0m_process_traceback_frames\u001b[0m\u001b[0;34m(\u001b[0m\u001b[0me\u001b[0m\u001b[0;34m.\u001b[0m\u001b[0m__traceback__\u001b[0m\u001b[0;34m)\u001b[0m\u001b[0;34m\u001b[0m\u001b[0;34m\u001b[0m\u001b[0m\n",
            "\u001b[0;32m/usr/local/lib/python3.7/dist-packages/keras/engine/training.py\u001b[0m in \u001b[0;36mfit\u001b[0;34m(self, x, y, batch_size, epochs, verbose, callbacks, validation_split, validation_data, shuffle, class_weight, sample_weight, initial_epoch, steps_per_epoch, validation_steps, validation_batch_size, validation_freq, max_queue_size, workers, use_multiprocessing)\u001b[0m\n\u001b[1;32m   1261\u001b[0m               \u001b[0muse_multiprocessing\u001b[0m\u001b[0;34m=\u001b[0m\u001b[0muse_multiprocessing\u001b[0m\u001b[0;34m,\u001b[0m\u001b[0;34m\u001b[0m\u001b[0;34m\u001b[0m\u001b[0m\n\u001b[1;32m   1262\u001b[0m               \u001b[0mreturn_dict\u001b[0m\u001b[0;34m=\u001b[0m\u001b[0;32mTrue\u001b[0m\u001b[0;34m,\u001b[0m\u001b[0;34m\u001b[0m\u001b[0;34m\u001b[0m\u001b[0m\n\u001b[0;32m-> 1263\u001b[0;31m               _use_cached_eval_dataset=True)\n\u001b[0m\u001b[1;32m   1264\u001b[0m           \u001b[0mval_logs\u001b[0m \u001b[0;34m=\u001b[0m \u001b[0;34m{\u001b[0m\u001b[0;34m'val_'\u001b[0m \u001b[0;34m+\u001b[0m \u001b[0mname\u001b[0m\u001b[0;34m:\u001b[0m \u001b[0mval\u001b[0m \u001b[0;32mfor\u001b[0m \u001b[0mname\u001b[0m\u001b[0;34m,\u001b[0m \u001b[0mval\u001b[0m \u001b[0;32min\u001b[0m \u001b[0mval_logs\u001b[0m\u001b[0;34m.\u001b[0m\u001b[0mitems\u001b[0m\u001b[0;34m(\u001b[0m\u001b[0;34m)\u001b[0m\u001b[0;34m}\u001b[0m\u001b[0;34m\u001b[0m\u001b[0;34m\u001b[0m\u001b[0m\n\u001b[1;32m   1265\u001b[0m           \u001b[0mepoch_logs\u001b[0m\u001b[0;34m.\u001b[0m\u001b[0mupdate\u001b[0m\u001b[0;34m(\u001b[0m\u001b[0mval_logs\u001b[0m\u001b[0;34m)\u001b[0m\u001b[0;34m\u001b[0m\u001b[0;34m\u001b[0m\u001b[0m\n",
            "\u001b[0;32m/usr/local/lib/python3.7/dist-packages/keras/utils/traceback_utils.py\u001b[0m in \u001b[0;36merror_handler\u001b[0;34m(*args, **kwargs)\u001b[0m\n\u001b[1;32m     62\u001b[0m     \u001b[0mfiltered_tb\u001b[0m \u001b[0;34m=\u001b[0m \u001b[0;32mNone\u001b[0m\u001b[0;34m\u001b[0m\u001b[0;34m\u001b[0m\u001b[0m\n\u001b[1;32m     63\u001b[0m     \u001b[0;32mtry\u001b[0m\u001b[0;34m:\u001b[0m\u001b[0;34m\u001b[0m\u001b[0;34m\u001b[0m\u001b[0m\n\u001b[0;32m---> 64\u001b[0;31m       \u001b[0;32mreturn\u001b[0m \u001b[0mfn\u001b[0m\u001b[0;34m(\u001b[0m\u001b[0;34m*\u001b[0m\u001b[0margs\u001b[0m\u001b[0;34m,\u001b[0m \u001b[0;34m**\u001b[0m\u001b[0mkwargs\u001b[0m\u001b[0;34m)\u001b[0m\u001b[0;34m\u001b[0m\u001b[0;34m\u001b[0m\u001b[0m\n\u001b[0m\u001b[1;32m     65\u001b[0m     \u001b[0;32mexcept\u001b[0m \u001b[0mException\u001b[0m \u001b[0;32mas\u001b[0m \u001b[0me\u001b[0m\u001b[0;34m:\u001b[0m  \u001b[0;31m# pylint: disable=broad-except\u001b[0m\u001b[0;34m\u001b[0m\u001b[0;34m\u001b[0m\u001b[0m\n\u001b[1;32m     66\u001b[0m       \u001b[0mfiltered_tb\u001b[0m \u001b[0;34m=\u001b[0m \u001b[0m_process_traceback_frames\u001b[0m\u001b[0;34m(\u001b[0m\u001b[0me\u001b[0m\u001b[0;34m.\u001b[0m\u001b[0m__traceback__\u001b[0m\u001b[0;34m)\u001b[0m\u001b[0;34m\u001b[0m\u001b[0;34m\u001b[0m\u001b[0m\n",
            "\u001b[0;32m/usr/local/lib/python3.7/dist-packages/keras/engine/training.py\u001b[0m in \u001b[0;36mevaluate\u001b[0;34m(self, x, y, batch_size, verbose, sample_weight, steps, callbacks, max_queue_size, workers, use_multiprocessing, return_dict, **kwargs)\u001b[0m\n\u001b[1;32m   1535\u001b[0m             \u001b[0;32mwith\u001b[0m \u001b[0mtf\u001b[0m\u001b[0;34m.\u001b[0m\u001b[0mprofiler\u001b[0m\u001b[0;34m.\u001b[0m\u001b[0mexperimental\u001b[0m\u001b[0;34m.\u001b[0m\u001b[0mTrace\u001b[0m\u001b[0;34m(\u001b[0m\u001b[0;34m'test'\u001b[0m\u001b[0;34m,\u001b[0m \u001b[0mstep_num\u001b[0m\u001b[0;34m=\u001b[0m\u001b[0mstep\u001b[0m\u001b[0;34m,\u001b[0m \u001b[0m_r\u001b[0m\u001b[0;34m=\u001b[0m\u001b[0;36m1\u001b[0m\u001b[0;34m)\u001b[0m\u001b[0;34m:\u001b[0m\u001b[0;34m\u001b[0m\u001b[0;34m\u001b[0m\u001b[0m\n\u001b[1;32m   1536\u001b[0m               \u001b[0mcallbacks\u001b[0m\u001b[0;34m.\u001b[0m\u001b[0mon_test_batch_begin\u001b[0m\u001b[0;34m(\u001b[0m\u001b[0mstep\u001b[0m\u001b[0;34m)\u001b[0m\u001b[0;34m\u001b[0m\u001b[0;34m\u001b[0m\u001b[0m\n\u001b[0;32m-> 1537\u001b[0;31m               \u001b[0mtmp_logs\u001b[0m \u001b[0;34m=\u001b[0m \u001b[0mself\u001b[0m\u001b[0;34m.\u001b[0m\u001b[0mtest_function\u001b[0m\u001b[0;34m(\u001b[0m\u001b[0miterator\u001b[0m\u001b[0;34m)\u001b[0m\u001b[0;34m\u001b[0m\u001b[0;34m\u001b[0m\u001b[0m\n\u001b[0m\u001b[1;32m   1538\u001b[0m               \u001b[0;32mif\u001b[0m \u001b[0mdata_handler\u001b[0m\u001b[0;34m.\u001b[0m\u001b[0mshould_sync\u001b[0m\u001b[0;34m:\u001b[0m\u001b[0;34m\u001b[0m\u001b[0;34m\u001b[0m\u001b[0m\n\u001b[1;32m   1539\u001b[0m                 \u001b[0mcontext\u001b[0m\u001b[0;34m.\u001b[0m\u001b[0masync_wait\u001b[0m\u001b[0;34m(\u001b[0m\u001b[0;34m)\u001b[0m\u001b[0;34m\u001b[0m\u001b[0;34m\u001b[0m\u001b[0m\n",
            "\u001b[0;32m/usr/local/lib/python3.7/dist-packages/tensorflow/python/util/traceback_utils.py\u001b[0m in \u001b[0;36merror_handler\u001b[0;34m(*args, **kwargs)\u001b[0m\n\u001b[1;32m    148\u001b[0m     \u001b[0mfiltered_tb\u001b[0m \u001b[0;34m=\u001b[0m \u001b[0;32mNone\u001b[0m\u001b[0;34m\u001b[0m\u001b[0;34m\u001b[0m\u001b[0m\n\u001b[1;32m    149\u001b[0m     \u001b[0;32mtry\u001b[0m\u001b[0;34m:\u001b[0m\u001b[0;34m\u001b[0m\u001b[0;34m\u001b[0m\u001b[0m\n\u001b[0;32m--> 150\u001b[0;31m       \u001b[0;32mreturn\u001b[0m \u001b[0mfn\u001b[0m\u001b[0;34m(\u001b[0m\u001b[0;34m*\u001b[0m\u001b[0margs\u001b[0m\u001b[0;34m,\u001b[0m \u001b[0;34m**\u001b[0m\u001b[0mkwargs\u001b[0m\u001b[0;34m)\u001b[0m\u001b[0;34m\u001b[0m\u001b[0;34m\u001b[0m\u001b[0m\n\u001b[0m\u001b[1;32m    151\u001b[0m     \u001b[0;32mexcept\u001b[0m \u001b[0mException\u001b[0m \u001b[0;32mas\u001b[0m \u001b[0me\u001b[0m\u001b[0;34m:\u001b[0m\u001b[0;34m\u001b[0m\u001b[0;34m\u001b[0m\u001b[0m\n\u001b[1;32m    152\u001b[0m       \u001b[0mfiltered_tb\u001b[0m \u001b[0;34m=\u001b[0m \u001b[0m_process_traceback_frames\u001b[0m\u001b[0;34m(\u001b[0m\u001b[0me\u001b[0m\u001b[0;34m.\u001b[0m\u001b[0m__traceback__\u001b[0m\u001b[0;34m)\u001b[0m\u001b[0;34m\u001b[0m\u001b[0;34m\u001b[0m\u001b[0m\n",
            "\u001b[0;32m/usr/local/lib/python3.7/dist-packages/tensorflow/python/eager/def_function.py\u001b[0m in \u001b[0;36m__call__\u001b[0;34m(self, *args, **kwds)\u001b[0m\n\u001b[1;32m    908\u001b[0m \u001b[0;34m\u001b[0m\u001b[0m\n\u001b[1;32m    909\u001b[0m       \u001b[0;32mwith\u001b[0m \u001b[0mOptionalXlaContext\u001b[0m\u001b[0;34m(\u001b[0m\u001b[0mself\u001b[0m\u001b[0;34m.\u001b[0m\u001b[0m_jit_compile\u001b[0m\u001b[0;34m)\u001b[0m\u001b[0;34m:\u001b[0m\u001b[0;34m\u001b[0m\u001b[0;34m\u001b[0m\u001b[0m\n\u001b[0;32m--> 910\u001b[0;31m         \u001b[0mresult\u001b[0m \u001b[0;34m=\u001b[0m \u001b[0mself\u001b[0m\u001b[0;34m.\u001b[0m\u001b[0m_call\u001b[0m\u001b[0;34m(\u001b[0m\u001b[0;34m*\u001b[0m\u001b[0margs\u001b[0m\u001b[0;34m,\u001b[0m \u001b[0;34m**\u001b[0m\u001b[0mkwds\u001b[0m\u001b[0;34m)\u001b[0m\u001b[0;34m\u001b[0m\u001b[0;34m\u001b[0m\u001b[0m\n\u001b[0m\u001b[1;32m    911\u001b[0m \u001b[0;34m\u001b[0m\u001b[0m\n\u001b[1;32m    912\u001b[0m       \u001b[0mnew_tracing_count\u001b[0m \u001b[0;34m=\u001b[0m \u001b[0mself\u001b[0m\u001b[0;34m.\u001b[0m\u001b[0mexperimental_get_tracing_count\u001b[0m\u001b[0;34m(\u001b[0m\u001b[0;34m)\u001b[0m\u001b[0;34m\u001b[0m\u001b[0;34m\u001b[0m\u001b[0m\n",
            "\u001b[0;32m/usr/local/lib/python3.7/dist-packages/tensorflow/python/eager/def_function.py\u001b[0m in \u001b[0;36m_call\u001b[0;34m(self, *args, **kwds)\u001b[0m\n\u001b[1;32m    947\u001b[0m       \u001b[0;31m# In this case we have not created variables on the first call. So we can\u001b[0m\u001b[0;34m\u001b[0m\u001b[0;34m\u001b[0m\u001b[0;34m\u001b[0m\u001b[0m\n\u001b[1;32m    948\u001b[0m       \u001b[0;31m# run the first trace but we should fail if variables are created.\u001b[0m\u001b[0;34m\u001b[0m\u001b[0;34m\u001b[0m\u001b[0;34m\u001b[0m\u001b[0m\n\u001b[0;32m--> 949\u001b[0;31m       \u001b[0mresults\u001b[0m \u001b[0;34m=\u001b[0m \u001b[0mself\u001b[0m\u001b[0;34m.\u001b[0m\u001b[0m_stateful_fn\u001b[0m\u001b[0;34m(\u001b[0m\u001b[0;34m*\u001b[0m\u001b[0margs\u001b[0m\u001b[0;34m,\u001b[0m \u001b[0;34m**\u001b[0m\u001b[0mkwds\u001b[0m\u001b[0;34m)\u001b[0m\u001b[0;34m\u001b[0m\u001b[0;34m\u001b[0m\u001b[0m\n\u001b[0m\u001b[1;32m    950\u001b[0m       \u001b[0;32mif\u001b[0m \u001b[0mself\u001b[0m\u001b[0;34m.\u001b[0m\u001b[0m_created_variables\u001b[0m \u001b[0;32mand\u001b[0m \u001b[0;32mnot\u001b[0m \u001b[0mALLOW_DYNAMIC_VARIABLE_CREATION\u001b[0m\u001b[0;34m:\u001b[0m\u001b[0;34m\u001b[0m\u001b[0;34m\u001b[0m\u001b[0m\n\u001b[1;32m    951\u001b[0m         raise ValueError(\"Creating variables on a non-first call to a function\"\n",
            "\u001b[0;32m/usr/local/lib/python3.7/dist-packages/tensorflow/python/eager/function.py\u001b[0m in \u001b[0;36m__call__\u001b[0;34m(self, *args, **kwargs)\u001b[0m\n\u001b[1;32m   3129\u001b[0m        filtered_flat_args) = self._maybe_define_function(args, kwargs)\n\u001b[1;32m   3130\u001b[0m     return graph_function._call_flat(\n\u001b[0;32m-> 3131\u001b[0;31m         filtered_flat_args, captured_inputs=graph_function.captured_inputs)  # pylint: disable=protected-access\n\u001b[0m\u001b[1;32m   3132\u001b[0m \u001b[0;34m\u001b[0m\u001b[0m\n\u001b[1;32m   3133\u001b[0m   \u001b[0;34m@\u001b[0m\u001b[0mproperty\u001b[0m\u001b[0;34m\u001b[0m\u001b[0;34m\u001b[0m\u001b[0m\n",
            "\u001b[0;32m/usr/local/lib/python3.7/dist-packages/tensorflow/python/eager/function.py\u001b[0m in \u001b[0;36m_call_flat\u001b[0;34m(self, args, captured_inputs, cancellation_manager)\u001b[0m\n\u001b[1;32m   1958\u001b[0m       \u001b[0;31m# No tape is watching; skip to running the function.\u001b[0m\u001b[0;34m\u001b[0m\u001b[0;34m\u001b[0m\u001b[0;34m\u001b[0m\u001b[0m\n\u001b[1;32m   1959\u001b[0m       return self._build_call_outputs(self._inference_function.call(\n\u001b[0;32m-> 1960\u001b[0;31m           ctx, args, cancellation_manager=cancellation_manager))\n\u001b[0m\u001b[1;32m   1961\u001b[0m     forward_backward = self._select_forward_and_backward_functions(\n\u001b[1;32m   1962\u001b[0m         \u001b[0margs\u001b[0m\u001b[0;34m,\u001b[0m\u001b[0;34m\u001b[0m\u001b[0;34m\u001b[0m\u001b[0m\n",
            "\u001b[0;32m/usr/local/lib/python3.7/dist-packages/tensorflow/python/eager/function.py\u001b[0m in \u001b[0;36m_build_call_outputs\u001b[0;34m(self, result)\u001b[0m\n\u001b[1;32m   2322\u001b[0m         \u001b[0mj\u001b[0m \u001b[0;34m+=\u001b[0m \u001b[0;36m1\u001b[0m\u001b[0;34m\u001b[0m\u001b[0;34m\u001b[0m\u001b[0m\n\u001b[1;32m   2323\u001b[0m     ret = nest.pack_sequence_as(self._func_graph.structured_outputs,\n\u001b[0;32m-> 2324\u001b[0;31m                                 outputs_list, expand_composites=True)\n\u001b[0m\u001b[1;32m   2325\u001b[0m     \u001b[0;32mreturn\u001b[0m \u001b[0mret\u001b[0m\u001b[0;34m\u001b[0m\u001b[0;34m\u001b[0m\u001b[0m\n\u001b[1;32m   2326\u001b[0m \u001b[0;34m\u001b[0m\u001b[0m\n",
            "\u001b[0;32m/usr/local/lib/python3.7/dist-packages/tensorflow/python/util/nest.py\u001b[0m in \u001b[0;36mpack_sequence_as\u001b[0;34m(structure, flat_sequence, expand_composites)\u001b[0m\n\u001b[1;32m    755\u001b[0m     \u001b[0mTypeError\u001b[0m\u001b[0;34m:\u001b[0m\u001b[0;31m \u001b[0m\u001b[0;31m`\u001b[0m\u001b[0mstructure\u001b[0m\u001b[0;31m`\u001b[0m \u001b[0;32mis\u001b[0m \u001b[0;32mor\u001b[0m \u001b[0mcontains\u001b[0m \u001b[0ma\u001b[0m \u001b[0mdict\u001b[0m \u001b[0;32mwith\u001b[0m \u001b[0mnon\u001b[0m\u001b[0;34m-\u001b[0m\u001b[0msortable\u001b[0m \u001b[0mkeys\u001b[0m\u001b[0;34m.\u001b[0m\u001b[0;34m\u001b[0m\u001b[0;34m\u001b[0m\u001b[0m\n\u001b[1;32m    756\u001b[0m   \"\"\"\n\u001b[0;32m--> 757\u001b[0;31m   \u001b[0;32mreturn\u001b[0m \u001b[0m_pack_sequence_as\u001b[0m\u001b[0;34m(\u001b[0m\u001b[0mstructure\u001b[0m\u001b[0;34m,\u001b[0m \u001b[0mflat_sequence\u001b[0m\u001b[0;34m,\u001b[0m \u001b[0mexpand_composites\u001b[0m\u001b[0;34m)\u001b[0m\u001b[0;34m\u001b[0m\u001b[0;34m\u001b[0m\u001b[0m\n\u001b[0m\u001b[1;32m    758\u001b[0m \u001b[0;34m\u001b[0m\u001b[0m\n\u001b[1;32m    759\u001b[0m \u001b[0;34m\u001b[0m\u001b[0m\n",
            "\u001b[0;32m/usr/local/lib/python3.7/dist-packages/tensorflow/python/util/nest.py\u001b[0m in \u001b[0;36m_pack_sequence_as\u001b[0;34m(structure, flat_sequence, expand_composites, sequence_fn)\u001b[0m\n\u001b[1;32m    631\u001b[0m   \u001b[0;32mtry\u001b[0m\u001b[0;34m:\u001b[0m\u001b[0;34m\u001b[0m\u001b[0;34m\u001b[0m\u001b[0m\n\u001b[1;32m    632\u001b[0m     final_index, packed = _packed_nest_with_indices(structure, flat_sequence,\n\u001b[0;32m--> 633\u001b[0;31m                                                     0, is_seq, sequence_fn)\n\u001b[0m\u001b[1;32m    634\u001b[0m     \u001b[0;32mif\u001b[0m \u001b[0mfinal_index\u001b[0m \u001b[0;34m<\u001b[0m \u001b[0mlen\u001b[0m\u001b[0;34m(\u001b[0m\u001b[0mflat_sequence\u001b[0m\u001b[0;34m)\u001b[0m\u001b[0;34m:\u001b[0m\u001b[0;34m\u001b[0m\u001b[0;34m\u001b[0m\u001b[0m\n\u001b[1;32m    635\u001b[0m       \u001b[0;32mraise\u001b[0m \u001b[0mIndexError\u001b[0m\u001b[0;34m\u001b[0m\u001b[0;34m\u001b[0m\u001b[0m\n",
            "\u001b[0;32m/usr/local/lib/python3.7/dist-packages/tensorflow/python/util/nest.py\u001b[0m in \u001b[0;36m_packed_nest_with_indices\u001b[0;34m(structure, flat, index, is_seq, sequence_fn)\u001b[0m\n\u001b[1;32m    592\u001b[0m   \u001b[0mpacked\u001b[0m \u001b[0;34m=\u001b[0m \u001b[0;34m[\u001b[0m\u001b[0;34m]\u001b[0m\u001b[0;34m\u001b[0m\u001b[0;34m\u001b[0m\u001b[0m\n\u001b[1;32m    593\u001b[0m   \u001b[0msequence_fn\u001b[0m \u001b[0;34m=\u001b[0m \u001b[0msequence_fn\u001b[0m \u001b[0;32mor\u001b[0m \u001b[0m_sequence_like\u001b[0m\u001b[0;34m\u001b[0m\u001b[0;34m\u001b[0m\u001b[0m\n\u001b[0;32m--> 594\u001b[0;31m   \u001b[0;32mfor\u001b[0m \u001b[0ms\u001b[0m \u001b[0;32min\u001b[0m \u001b[0m_yield_value\u001b[0m\u001b[0;34m(\u001b[0m\u001b[0mstructure\u001b[0m\u001b[0;34m)\u001b[0m\u001b[0;34m:\u001b[0m\u001b[0;34m\u001b[0m\u001b[0;34m\u001b[0m\u001b[0m\n\u001b[0m\u001b[1;32m    595\u001b[0m     \u001b[0;32mif\u001b[0m \u001b[0mis_seq\u001b[0m\u001b[0;34m(\u001b[0m\u001b[0ms\u001b[0m\u001b[0;34m)\u001b[0m\u001b[0;34m:\u001b[0m\u001b[0;34m\u001b[0m\u001b[0;34m\u001b[0m\u001b[0m\n\u001b[1;32m    596\u001b[0m       new_index, child = _packed_nest_with_indices(s, flat, index, is_seq,\n",
            "\u001b[0;31mKeyboardInterrupt\u001b[0m: "
          ]
        }
      ]
    },
    {
      "cell_type": "code",
      "metadata": {
        "id": "KvHRDvhLKQL9"
      },
      "source": [
        "model_attack = Sequential()\n",
        "model_attack.add(Dense(nh, input_shape = (xtr_att.shape[1],), activation='sigmoid', name = 'hidden'))\n",
        "model_attack.add(Dense(1, activation='sigmoid', name = 'output'))\n",
        "opt = Adam(learning_rate=lrate, decay=decay) \n",
        "model_attack.compile(loss='binary_crossentropy',\n",
        "                  optimizer=opt,\n",
        "                  metrics=['accuracy'])\n",
        "print(\"Attack Model Summary\")\n",
        "print(model_attack.summary())\n",
        "hist_attack = model_attack.fit(xtr_att, ytr_att,\n",
        "                  batch_size = batch_size,\n",
        "                  epochs = epochs,\n",
        "                  validation_data=(xts_att, yts_att), shuffle=True, verbose=0)\n",
        "print('\\n\\nFor attack model with training datasize = %d'%xtr_att.shape[0])\n",
        "print('Training accuracy = ', hist_shadow.history['accuracy'][-1])\n",
        "print('Validation accuracy = ', hist_shadow.history['val_accuracy'][-1])"
      ],
      "execution_count": null,
      "outputs": []
    }
  ]
}